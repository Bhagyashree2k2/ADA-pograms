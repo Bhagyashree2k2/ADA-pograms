{
  "cells": [
    {
      "cell_type": "markdown",
      "metadata": {
        "id": "view-in-github",
        "colab_type": "text"
      },
      "source": [
        "<a href=\"https://colab.research.google.com/github/Bhagyashree2k2/ADA-pograms/blob/main/Bhagyashree_project.ipynb\" target=\"_parent\"><img src=\"https://colab.research.google.com/assets/colab-badge.svg\" alt=\"Open In Colab\"/></a>"
      ]
    },
    {
      "cell_type": "code",
      "execution_count": null,
      "metadata": {
        "colab": {
          "base_uri": "https://localhost:8080/"
        },
        "id": "RS1l8swyrT6K",
        "outputId": "a8d40641-c741-41ef-9d6c-e0bd7fa41c6d"
      },
      "outputs": [
        {
          "output_type": "stream",
          "name": "stdout",
          "text": [
            "Mounted at /content/drive\n"
          ]
        }
      ],
      "source": [
        "from google.colab import drive\n",
        "drive.mount('/content/drive')"
      ]
    },
    {
      "cell_type": "code",
      "execution_count": null,
      "metadata": {
        "colab": {
          "base_uri": "https://localhost:8080/"
        },
        "id": "y1KFzOcLiAbl",
        "outputId": "64497d9c-3198-4297-c3f2-d6acd08745c6"
      },
      "outputs": [
        {
          "output_type": "execute_result",
          "data": {
            "text/plain": [
              "'/content/drive/MyDrive/Brain Tumor'"
            ],
            "application/vnd.google.colaboratory.intrinsic+json": {
              "type": "string"
            }
          },
          "metadata": {},
          "execution_count": 2
        }
      ],
      "source": [
        "import os\n",
        "directory_path='/content/drive/MyDrive/Brain Tumor/'\n",
        "os.chdir(directory_path)\n",
        "os.getcwd()"
      ]
    },
    {
      "cell_type": "code",
      "execution_count": null,
      "metadata": {
        "id": "pNKdpV5rjazd"
      },
      "outputs": [],
      "source": [
        "path = '/content/drive/MyDrive/Brain Tumor/Brain_MRI/'\n"
      ]
    },
    {
      "cell_type": "code",
      "execution_count": null,
      "metadata": {
        "id": "uV4ng4VWjlr0"
      },
      "outputs": [],
      "source": [
        "pip install pandas"
      ]
    },
    {
      "cell_type": "code",
      "execution_count": null,
      "metadata": {
        "id": "YmEcOF8ijxU7"
      },
      "outputs": [],
      "source": [
        "pip install numpy\n"
      ]
    },
    {
      "cell_type": "code",
      "execution_count": null,
      "metadata": {
        "id": "kZMxyIzqj4xj"
      },
      "outputs": [],
      "source": [
        "pip install matplotlib"
      ]
    },
    {
      "cell_type": "code",
      "execution_count": null,
      "metadata": {
        "id": "aHCn57-Pj9zV"
      },
      "outputs": [],
      "source": [
        "pip install seaborn"
      ]
    },
    {
      "cell_type": "code",
      "execution_count": null,
      "metadata": {
        "id": "qU9VYoRBkFUU"
      },
      "outputs": [],
      "source": [
        "pip install opencv-python"
      ]
    },
    {
      "cell_type": "code",
      "execution_count": null,
      "metadata": {
        "id": "-4vV7CbbkzQr"
      },
      "outputs": [],
      "source": [
        "pip install scikit-learn"
      ]
    },
    {
      "cell_type": "code",
      "execution_count": null,
      "metadata": {
        "id": "aOrEPPLClFLN"
      },
      "outputs": [],
      "source": [
        "pip install tensorflow"
      ]
    },
    {
      "cell_type": "code",
      "execution_count": null,
      "metadata": {
        "id": "flV9fPoWlJBT"
      },
      "outputs": [],
      "source": [
        "pip install keras"
      ]
    },
    {
      "cell_type": "code",
      "execution_count": null,
      "metadata": {
        "id": "r90g_AVUtisy"
      },
      "outputs": [],
      "source": [
        "pip install Keras-Preprocessing"
      ]
    },
    {
      "cell_type": "code",
      "execution_count": null,
      "metadata": {
        "id": "sv72G_bolOx0"
      },
      "outputs": [],
      "source": [
        "import pandas as pd\n",
        "import numpy as np\n",
        "import seaborn as sns\n",
        "import matplotlib.pyplot as plt\n",
        "import skimage.io as io\n",
        "import cv2"
      ]
    },
    {
      "cell_type": "code",
      "execution_count": null,
      "metadata": {
        "id": "O0HxAjUllxYR"
      },
      "outputs": [],
      "source": [
        "import tensorflow as tf\n",
        "from tensorflow.keras import layers,optimizers\n",
        "from tensorflow.keras.applications.resnet50 import ResNet50\n",
        "from tensorflow.keras.layers import *\n",
        "from tensorflow.keras.models import Model,load_model\n",
        "from tensorflow.keras.utils import plot_model\n",
        "from tensorflow.keras.callbacks import EarlyStopping,ModelCheckpoint\n",
        "import random"
      ]
    },
    {
      "cell_type": "code",
      "execution_count": null,
      "metadata": {
        "id": "B9244YH5nAP_"
      },
      "outputs": [],
      "source": [
        "%matplotlib inline\n",
        "#to display plots in the same file"
      ]
    },
    {
      "cell_type": "code",
      "execution_count": null,
      "metadata": {
        "id": "jwv19xy6qZGu"
      },
      "outputs": [],
      "source": [
        "brain_df=pd.read_csv('/content/drive/MyDrive/Brain Tumor/Brain_MRI/data_mask.csv')\n"
      ]
    },
    {
      "cell_type": "code",
      "execution_count": null,
      "metadata": {
        "id": "GO-D5I8FsOW1"
      },
      "outputs": [],
      "source": [
        "brain_df"
      ]
    },
    {
      "cell_type": "code",
      "execution_count": null,
      "metadata": {
        "id": "S8QSMK3cgMX6"
      },
      "outputs": [],
      "source": [
        "brain_df.info()\n"
      ]
    },
    {
      "cell_type": "code",
      "execution_count": null,
      "metadata": {
        "id": "DRwArJe_s5-7"
      },
      "outputs": [],
      "source": [
        "brain_df.image_path[0]"
      ]
    },
    {
      "cell_type": "code",
      "execution_count": null,
      "metadata": {
        "id": "OhdUY0olgddW"
      },
      "outputs": [],
      "source": [
        "brain_df.mask_path[0]"
      ]
    },
    {
      "cell_type": "code",
      "execution_count": null,
      "metadata": {
        "id": "fHHDuoqugOKr"
      },
      "outputs": [],
      "source": [
        "brain_df['mask'].value_counts()"
      ]
    },
    {
      "cell_type": "code",
      "execution_count": null,
      "metadata": {
        "id": "jNAb4Q3qg_Sw"
      },
      "outputs": [],
      "source": [
        "fig=plt.figure(figsize=(6,5))\n",
        "plt.bar(x=['0','1'],height=brain_df['mask'].value_counts())\n",
        "plt.show()"
      ]
    },
    {
      "cell_type": "code",
      "execution_count": null,
      "metadata": {
        "id": "smpHiebwh97p"
      },
      "outputs": [],
      "source": [
        "image=cv2.imread(path+brain_df.image_path[1000])\n",
        "plt.imshow(image)"
      ]
    },
    {
      "cell_type": "code",
      "execution_count": null,
      "metadata": {
        "id": "plFmuvHri0Qp"
      },
      "outputs": [],
      "source": [
        "image=cv2.imread(path+brain_df.mask_path[1000])\n",
        "plt.imshow(image)"
      ]
    },
    {
      "cell_type": "code",
      "execution_count": null,
      "metadata": {
        "id": "jPkkgYBGjntp"
      },
      "outputs": [],
      "source": [
        "cv2.imread(path+brain_df.image_path[1000]).max()"
      ]
    },
    {
      "cell_type": "code",
      "execution_count": null,
      "metadata": {
        "id": "QJ6Tr8l7kSzZ"
      },
      "outputs": [],
      "source": [
        "cv2.imread(path+brain_df.image_path[1000]).min()"
      ]
    },
    {
      "cell_type": "code",
      "execution_count": null,
      "metadata": {
        "id": "4_wioy2mkW4n"
      },
      "outputs": [],
      "source": [
        "cv2.imread(path+brain_df.mask_path[1000]).max()"
      ]
    },
    {
      "cell_type": "code",
      "execution_count": null,
      "metadata": {
        "id": "QZhh38d4kgDn"
      },
      "outputs": [],
      "source": [
        "cv2.imread(path+brain_df.mask_path[1000]).min()"
      ]
    },
    {
      "cell_type": "code",
      "execution_count": null,
      "metadata": {
        "id": "8orytzmClED0"
      },
      "outputs": [],
      "source": [
        "fig,axs=plt.subplots(3,2,figsize=(8,12))\n",
        "count=0\n",
        "for x in range(3):\n",
        "  i=random.randint(0,len(brain_df))\n",
        "  axs[count][0].title.set_text(\"Brain MRI\")\n",
        "  axs[count][0].imshow(cv2.imread(path + brain_df.image_path[i]))\n",
        "  axs[count][1].title.set_text(\"Mask\")\n",
        "  axs[count][1].imshow(cv2.imread(path + brain_df.mask_path[i]))\n",
        "  count=count+1\n",
        "fig.tight_layout()"
      ]
    },
    {
      "cell_type": "markdown",
      "metadata": {
        "id": "SXDHojcupxoG"
      },
      "source": [
        "preprocessing"
      ]
    },
    {
      "cell_type": "code",
      "execution_count": null,
      "metadata": {
        "id": "zx96tuMGp0Q-"
      },
      "outputs": [],
      "source": [
        "brain_df.head(5)"
      ]
    },
    {
      "cell_type": "code",
      "execution_count": null,
      "metadata": {
        "id": "nEjKv9OxqL4c"
      },
      "outputs": [],
      "source": [
        "brain_df.shape"
      ]
    },
    {
      "cell_type": "code",
      "execution_count": null,
      "metadata": {
        "id": "nbi53g5op5cZ"
      },
      "outputs": [],
      "source": [
        "b_df=brain_df.drop(columns=['patient_id'])\n",
        "b_df.shape"
      ]
    },
    {
      "cell_type": "code",
      "execution_count": null,
      "metadata": {
        "id": "KMuxM6hYqJBh"
      },
      "outputs": [],
      "source": [
        "b_df.info()"
      ]
    },
    {
      "cell_type": "code",
      "execution_count": null,
      "metadata": {
        "id": "0bFUX9ugqQfR"
      },
      "outputs": [],
      "source": [
        "#converting mask column into object datatype\n",
        "b_df['mask']=b_df['mask'].apply(lambda x:str(x))"
      ]
    },
    {
      "cell_type": "code",
      "execution_count": null,
      "metadata": {
        "id": "WkOdNO0Bq2Bp"
      },
      "outputs": [],
      "source": [
        "b_df.info()"
      ]
    },
    {
      "cell_type": "code",
      "execution_count": null,
      "metadata": {
        "id": "M8FKb8byq4RI"
      },
      "outputs": [],
      "source": [
        "from sklearn.model_selection import train_test_split\n",
        "train,test=train_test_split(b_df,test_size=0.15)"
      ]
    },
    {
      "cell_type": "code",
      "execution_count": null,
      "metadata": {
        "id": "YVRKn6RWriDB"
      },
      "outputs": [],
      "source": [
        "test"
      ]
    },
    {
      "cell_type": "code",
      "execution_count": null,
      "metadata": {
        "id": "XTrHQuPKrjrg"
      },
      "outputs": [],
      "source": [
        "train"
      ]
    },
    {
      "cell_type": "code",
      "execution_count": null,
      "metadata": {
        "id": "0zU_NDyXrnDY"
      },
      "outputs": [],
      "source": [
        "#for data augmentation-cropping,padding\n",
        "from keras_preprocessing.image import ImageDataGenerator\n",
        "\n",
        "datagen=ImageDataGenerator(rescale=1./255.,validation_split=0.15)\n",
        "#validation split will help in measuring accuracy for a particular batch"
      ]
    },
    {
      "cell_type": "code",
      "execution_count": null,
      "metadata": {
        "id": "oCr2k2I0oS99"
      },
      "outputs": [],
      "source": [
        "train_generator = datagen.flow_from_dataframe(\n",
        "    dataframe=train,\n",
        "    directory=path,\n",
        "    x_col='image_path',\n",
        "    y_col='mask',\n",
        "    subset=\"training\",\n",
        "    batch_size=16,\n",
        "    shuffle=False,\n",
        "    class_mode=\"categorical\",\n",
        "    target_size=(256,256)\n",
        ")\n",
        "valid_generator = datagen.flow_from_dataframe(\n",
        "    dataframe=train,\n",
        "    directory=path,\n",
        "    x_col='image_path',\n",
        "    y_col='mask',\n",
        "    subset=\"validation\",\n",
        "    batch_size=16,\n",
        "    shuffle=False,\n",
        "    class_mode=\"categorical\",\n",
        "    target_size=(256,256)\n",
        ")"
      ]
    },
    {
      "cell_type": "code",
      "execution_count": null,
      "metadata": {
        "id": "7r0z0e1RtB-x"
      },
      "outputs": [],
      "source": [
        "test_datagen=ImageDataGenerator(rescale=1./255.)\n",
        "test_generator = test_datagen.flow_from_dataframe(\n",
        "    dataframe=test,\n",
        "    directory=path,\n",
        "    x_col='image_path',\n",
        "    y_col='mask',\n",
        "    subset=\"training\",\n",
        "    batch_size=32,\n",
        "    shuffle=False,\n",
        "    class_mode=\"categorical\",\n",
        "    target_size=(256,256)\n",
        ")"
      ]
    },
    {
      "cell_type": "code",
      "execution_count": null,
      "metadata": {
        "id": "19lrLGNxuO-Y"
      },
      "outputs": [],
      "source": [
        " #Transfer learning using a pretrained CNN model (ResNet50)\n",
        " basemodel=ResNet50(weights='imagenet',include_top=False,input_tensor=Input(shape=(256,256,3)))"
      ]
    },
    {
      "cell_type": "code",
      "execution_count": null,
      "metadata": {
        "id": "YrRGQWwYy3FL"
      },
      "outputs": [],
      "source": [
        "basemodel.summary()"
      ]
    },
    {
      "cell_type": "code",
      "execution_count": null,
      "metadata": {
        "id": "OJVxq0Ixy3Qz"
      },
      "outputs": [],
      "source": [
        "plot_model(basemodel,to_file='/content/drive/MyDrive/Brain Tumor/model_plot.png',show_shapes=True,show_layer_names=True)"
      ]
    },
    {
      "cell_type": "code",
      "execution_count": null,
      "metadata": {
        "id": "ms1Tn50TuPC3"
      },
      "outputs": [],
      "source": [
        "#freezing the layer\n",
        "for layers in basemodel.layers:\n",
        "  layers.trainable=False"
      ]
    },
    {
      "cell_type": "code",
      "execution_count": null,
      "metadata": {
        "id": "PPU7YKcXuPEh"
      },
      "outputs": [],
      "source": [
        "#adding layers to pretrained network\n",
        "headmodel=basemodel.output\n",
        "headmodel=MaxPooling2D(pool_size=(4,4))(headmodel)\n",
        "headmodel=Flatten(name='flatten')(headmodel) #converting output from pooling layer to 1D (flattening)\n",
        "headmodel=Dense(256,activation='relu')(headmodel)#Dense is a fully connected layer used to identify the classes i.e., classification\n",
        "headmodel=Dropout(0.3)(headmodel)\n",
        "headmodel=Dense(256,activation='relu')(headmodel)\n",
        "#dense(unit,activation-relu(fxn)-rectified linear unit-to learn complex parameters in the data)\n",
        "headmodel=Dropout(0.3)(headmodel)\n",
        "headmodel=Dense(256,activation='relu')(headmodel)\n",
        "headmodel=Dropout(0.3)(headmodel)\n",
        "headmodel=Dense(2,activation='softmax')(headmodel)#softmax is activation fxn that provides the probability of each classs\n",
        "\n",
        "model=Model(inputs=basemodel.input,outputs=headmodel)\n"
      ]
    },
    {
      "cell_type": "code",
      "execution_count": null,
      "metadata": {
        "id": "Dh4Ny0Zo8MBU"
      },
      "outputs": [],
      "source": [
        "#bias  #variance  \n",
        "#low variance & high bias -- underfitting\n",
        "#high variance and low bias -- Overfitting\n",
        "#To prevent overfitting we add dropout layers\n",
        "#To temperarily remove neurons from training to avoid overfitting (here 30%)\n",
        "\n"
      ]
    },
    {
      "cell_type": "code",
      "execution_count": null,
      "metadata": {
        "id": "P4lF0m_k8ME9"
      },
      "outputs": [],
      "source": [
        "model.summary()"
      ]
    },
    {
      "cell_type": "code",
      "execution_count": null,
      "metadata": {
        "id": "VfYAjtM88MI8"
      },
      "outputs": [],
      "source": [
        "#compiling the model before training the model to define loss function,optimizers and metrics for prediction\n",
        "#optimizers are algorithms/fxns to change attributes of neural network like weights and learning rate to reduce loss\n",
        "#optimizers are used to reduce loss\n",
        "model.compile(loss='categorical_crossentropy',optimizer='adam',metrics=['accuracy'])"
      ]
    },
    {
      "cell_type": "code",
      "execution_count": null,
      "metadata": {
        "id": "5Qq7YXD58MNB"
      },
      "outputs": [],
      "source": [
        "#callback is fxn to be applied at certain stages of training\n",
        "earlystopping=EarlyStopping(monitor='val_loss',verbose=1,patience=25)\n",
        "\n",
        "checkpointer=ModelCheckpoint(filepath='classifier-resnet-weights.hdf5',mode='min',verbose=1,save_best_only=True)"
      ]
    },
    {
      "cell_type": "code",
      "execution_count": null,
      "metadata": {
        "id": "5RkOfGZx2zmF"
      },
      "outputs": [],
      "source": [
        "tf.test.gpu_device_name()"
      ]
    },
    {
      "cell_type": "code",
      "execution_count": null,
      "metadata": {
        "id": "i5mtxcFJ8MQ0"
      },
      "outputs": [],
      "source": [
        "#model training\n",
        "history=model.fit(train_generator,steps_per_epoch=train_generator.n//32,epochs=30,validation_data=valid_generator,callbacks=[earlystopping,checkpointer])"
      ]
    },
    {
      "cell_type": "code",
      "execution_count": null,
      "metadata": {
        "id": "HDrxC_SC8MZU"
      },
      "outputs": [],
      "source": [
        "model_json=model.to_json()\n",
        "with open(\"resnet.json\",\"w\") as json_file:\n",
        "  json_file.write(model_json)"
      ]
    },
    {
      "cell_type": "code",
      "execution_count": null,
      "metadata": {
        "id": "Wag_Xu1Gktz2"
      },
      "outputs": [],
      "source": [
        "with open('resnet.json','r') as json_file:\n",
        "  savedmodel=json_file.read()\n",
        "model=tf.keras.models.model_from_json(savedmodel)"
      ]
    },
    {
      "cell_type": "code",
      "execution_count": null,
      "metadata": {
        "id": "Lzk1Mj98lR5a"
      },
      "outputs": [],
      "source": [
        "model.load_weights('classifier-resnet-weights.hdf5')\n",
        "model.compile(loss='categorical_crossentropy',optimizer='adam',metrics=['accuracy'])"
      ]
    },
    {
      "cell_type": "code",
      "execution_count": null,
      "metadata": {
        "id": "m3gzM3TamKtM"
      },
      "outputs": [],
      "source": [
        "test_predict=model.predict(test_generator,steps=test_generator.n//16,verbose=1)"
      ]
    },
    {
      "cell_type": "code",
      "execution_count": null,
      "metadata": {
        "id": "2LdklvoAmx5S"
      },
      "outputs": [],
      "source": [
        "test_predict.shape"
      ]
    },
    {
      "cell_type": "code",
      "execution_count": null,
      "metadata": {
        "id": "su7Ae3mKm4pE"
      },
      "outputs": [],
      "source": [
        "test_predict"
      ]
    },
    {
      "cell_type": "code",
      "execution_count": null,
      "metadata": {
        "id": "0OVb_eKmnApT"
      },
      "outputs": [],
      "source": [
        "y_classes=[]\n",
        "for i in test_predict:\n",
        "  y_classes.append(str(np.argmax(i)))\n",
        "\n",
        "y_classes=np.array(y_classes)"
      ]
    },
    {
      "cell_type": "code",
      "execution_count": null,
      "metadata": {
        "id": "jvzg7Re-nm3h"
      },
      "outputs": [],
      "source": [
        "original=np.array(test['mask'])[:len(test_predict)]"
      ]
    },
    {
      "cell_type": "code",
      "execution_count": null,
      "metadata": {
        "id": "Is4adgc3odU3"
      },
      "outputs": [],
      "source": [
        "from sklearn.metrics import accuracy_score"
      ]
    },
    {
      "cell_type": "code",
      "execution_count": null,
      "metadata": {
        "id": "AUDezmJzoof-"
      },
      "outputs": [],
      "source": [
        "accuracy=accuracy_score(original,y_classes)"
      ]
    },
    {
      "cell_type": "code",
      "execution_count": null,
      "metadata": {
        "id": "r04HVyiHowqo"
      },
      "outputs": [],
      "source": [
        "accuracy"
      ]
    },
    {
      "cell_type": "code",
      "execution_count": null,
      "metadata": {
        "id": "qCYQsQjpoy_P"
      },
      "outputs": [],
      "source": [
        "from sklearn.metrics import confusion_matrix\n",
        "cm=confusion_matrix(original,y_classes)\n",
        "plt.figure(figsize=(6,6))\n",
        "sns.heatmap(cm,annot=True)"
      ]
    }
  ],
  "metadata": {
    "accelerator": "GPU",
    "colab": {
      "provenance": [],
      "include_colab_link": true
    },
    "gpuClass": "standard",
    "kernelspec": {
      "display_name": "Python 3",
      "name": "python3"
    },
    "language_info": {
      "name": "python"
    }
  },
  "nbformat": 4,
  "nbformat_minor": 0
}