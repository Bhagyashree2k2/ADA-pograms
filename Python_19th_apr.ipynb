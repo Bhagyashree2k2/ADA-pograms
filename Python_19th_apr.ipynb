{
  "nbformat": 4,
  "nbformat_minor": 0,
  "metadata": {
    "colab": {
      "provenance": [],
      "include_colab_link": true
    },
    "kernelspec": {
      "name": "python3",
      "display_name": "Python 3"
    },
    "language_info": {
      "name": "python"
    }
  },
  "cells": [
    {
      "cell_type": "markdown",
      "metadata": {
        "id": "view-in-github",
        "colab_type": "text"
      },
      "source": [
        "<a href=\"https://colab.research.google.com/github/Bhagyashree2k2/ADA-pograms/blob/main/Python_19th_apr.ipynb\" target=\"_parent\"><img src=\"https://colab.research.google.com/assets/colab-badge.svg\" alt=\"Open In Colab\"/></a>"
      ]
    },
    {
      "cell_type": "code",
      "execution_count": 1,
      "metadata": {
        "id": "7P1jntboGx_I"
      },
      "outputs": [],
      "source": [
        "file1=open(\"file1.txt\",'w')"
      ]
    },
    {
      "cell_type": "code",
      "source": [
        "file1.write(\"This is a python file\")\n",
        "file1.close()"
      ],
      "metadata": {
        "id": "LiSXCt8OHLbo"
      },
      "execution_count": 2,
      "outputs": []
    },
    {
      "cell_type": "code",
      "source": [
        "count=0\n",
        "for line in open('file1.txt'):\n",
        "  for word in line:\n",
        "     count=count+1\n",
        "print(count)"
      ],
      "metadata": {
        "colab": {
          "base_uri": "https://localhost:8080/"
        },
        "id": "hjew8NS-HrHd",
        "outputId": "d76f7bc8-14e8-4743-de96-9c626fe74cf1"
      },
      "execution_count": 3,
      "outputs": [
        {
          "output_type": "stream",
          "name": "stdout",
          "text": [
            "21\n"
          ]
        }
      ]
    },
    {
      "cell_type": "code",
      "source": [
        "count=0\n",
        "for line in open('file1.txt'):\n",
        "  list=line.split(\" \")\n",
        "len(list)"
      ],
      "metadata": {
        "colab": {
          "base_uri": "https://localhost:8080/"
        },
        "id": "gkZcB0TzIhf4",
        "outputId": "6fadc660-ec7e-4b88-e348-8dfb495e3bc8"
      },
      "execution_count": 4,
      "outputs": [
        {
          "output_type": "execute_result",
          "data": {
            "text/plain": [
              "5"
            ]
          },
          "metadata": {},
          "execution_count": 4
        }
      ]
    },
    {
      "cell_type": "code",
      "source": [
        "file2=open(\"file2.txt\",'w')"
      ],
      "metadata": {
        "id": "ThqNGn-qI_7t"
      },
      "execution_count": 5,
      "outputs": []
    },
    {
      "cell_type": "code",
      "source": [
        "file2.write(\"This is python lab\\nWe are executing files\\nhello world\")\n",
        "file2.close()"
      ],
      "metadata": {
        "id": "tg56qZKpJJFf"
      },
      "execution_count": 6,
      "outputs": []
    },
    {
      "cell_type": "code",
      "source": [
        "count = 0 \n",
        "for line in open(\"file2.txt\"):\n",
        "  count=count+1\n",
        "print(count)"
      ],
      "metadata": {
        "colab": {
          "base_uri": "https://localhost:8080/"
        },
        "id": "ZfRnkUsIJcRP",
        "outputId": "acc9b0bd-430d-4107-c4dd-3f7ff97f87a5"
      },
      "execution_count": 7,
      "outputs": [
        {
          "output_type": "stream",
          "name": "stdout",
          "text": [
            "3\n"
          ]
        }
      ]
    },
    {
      "cell_type": "code",
      "source": [
        "file3=open(\"file3.txt\",'w')\n",
        "file3.write(\"I study in NIE\\nNIE is an autonomous college\\nNIE is in mysore\")\n",
        "file3.close()"
      ],
      "metadata": {
        "id": "wtHFUSJJJsh9"
      },
      "execution_count": 8,
      "outputs": []
    },
    {
      "cell_type": "code",
      "source": [
        "count = 0\n",
        "for line in open(\"file3.txt\"):\n",
        "   print(line)\n",
        "  \n"
      ],
      "metadata": {
        "colab": {
          "base_uri": "https://localhost:8080/"
        },
        "id": "9Lzq11SsKTzm",
        "outputId": "0a3a78a3-2aec-4cdc-e918-4ee82439d9d4"
      },
      "execution_count": 9,
      "outputs": [
        {
          "output_type": "stream",
          "name": "stdout",
          "text": [
            "I study in NIE\n",
            "\n",
            "NIE is an autonomous college\n",
            "\n",
            "NIE is in mysore\n"
          ]
        }
      ]
    },
    {
      "cell_type": "code",
      "source": [
        "from collections import Counter\n",
        "with open('file3.txt','r') as file:\n",
        "    content=file.read()\n",
        "    words=content.split()\n",
        "    print(Counter(words))\n",
        "    for i in Counter(words):\n",
        "      if i == 'NIE':\n",
        "        print(Counter(words)[i])"
      ],
      "metadata": {
        "colab": {
          "base_uri": "https://localhost:8080/"
        },
        "id": "7JIbN5njNQPt",
        "outputId": "fef2ba6e-6ee4-4226-d422-be6b22b21f0c"
      },
      "execution_count": 10,
      "outputs": [
        {
          "output_type": "stream",
          "name": "stdout",
          "text": [
            "Counter({'NIE': 3, 'in': 2, 'is': 2, 'I': 1, 'study': 1, 'an': 1, 'autonomous': 1, 'college': 1, 'mysore': 1})\n",
            "3\n"
          ]
        }
      ]
    },
    {
      "cell_type": "code",
      "source": [
        "vowels=['A','E','I','O','U','a','e','i','o','u']\n",
        "from collections import Counter\n",
        "with open('file3.txt','r') as file:\n",
        "    content=file.read()\n",
        "    print(Counter(content))\n",
        "    for i in Counter(content):\n",
        "      if i in vowels:\n",
        "        print(i,Counter(content)[i])\n",
        "    "
      ],
      "metadata": {
        "colab": {
          "base_uri": "https://localhost:8080/"
        },
        "id": "wWkyqPeSN6_z",
        "outputId": "4f71aafd-007d-4ea3-d969-165734a27675"
      },
      "execution_count": 11,
      "outputs": [
        {
          "output_type": "stream",
          "name": "stdout",
          "text": [
            "Counter({' ': 10, 's': 5, 'o': 5, 'I': 4, 'i': 4, 'n': 4, 'u': 3, 'N': 3, 'E': 3, 'e': 3, 't': 2, 'y': 2, '\\n': 2, 'a': 2, 'm': 2, 'l': 2, 'd': 1, 'c': 1, 'g': 1, 'r': 1})\n",
            "I 4\n",
            "u 3\n",
            "i 4\n",
            "E 3\n",
            "a 2\n",
            "o 5\n",
            "e 3\n"
          ]
        }
      ]
    },
    {
      "cell_type": "code",
      "source": [
        "#longest word in a paragraph\n",
        "file4=open(\"file4.txt\",'w')\n",
        "file4.write(\"hello good evening have a great day\")\n",
        "file4.close()"
      ],
      "metadata": {
        "id": "BYPbxg0mMpcI"
      },
      "execution_count": 13,
      "outputs": []
    },
    {
      "cell_type": "code",
      "source": [
        "with open(\"file4.txt\",\"r\") as file:\n",
        "  sentence=file.read()\n",
        "string=max(sentence.split(),key=len)\n",
        "print(string)"
      ],
      "metadata": {
        "colab": {
          "base_uri": "https://localhost:8080/"
        },
        "id": "Ke_GhipvNJPA",
        "outputId": "2a274d59-d8e3-4cf4-b226-0cca0280b87a"
      },
      "execution_count": 14,
      "outputs": [
        {
          "output_type": "stream",
          "name": "stdout",
          "text": [
            "evening\n"
          ]
        }
      ]
    },
    {
      "cell_type": "code",
      "source": [
        "import random\n",
        "file5 = open(\"file5.txt\",'w')\n",
        "for i in range(100):\n",
        "    file5.write(str(random.randint(10,99))+\" \")\n",
        "\n",
        "file5.close()"
      ],
      "metadata": {
        "id": "1B5q5BcwQXVc"
      },
      "execution_count": 18,
      "outputs": []
    },
    {
      "cell_type": "code",
      "source": [
        "with open(\"file5.txt\",'r') as file:\n",
        "  numbers=file.read()\n",
        "num=[]\n",
        "num=numbers.split()\n",
        "intNum=[]\n",
        "for n in num:\n",
        "  intNum.append(int(n))\n",
        "print(intNum)\n",
        "sum=0\n",
        "for n in intNum:\n",
        "  sum=sum+i\n",
        "mean=sum/100\n",
        "print(mean)"
      ],
      "metadata": {
        "id": "eYx66yqzShyD",
        "colab": {
          "base_uri": "https://localhost:8080/"
        },
        "outputId": "b2e194de-42ab-46d1-da31-a835bbdb8081"
      },
      "execution_count": 28,
      "outputs": [
        {
          "output_type": "stream",
          "name": "stdout",
          "text": [
            "[94, 91, 76, 95, 51, 97, 14, 64, 10, 10, 24, 40, 89, 73, 35, 31, 17, 34, 77, 12, 91, 85, 38, 34, 38, 43, 65, 49, 30, 79, 83, 51, 48, 20, 44, 90, 11, 70, 11, 67, 94, 57, 61, 33, 53, 67, 73, 62, 96, 53, 18, 94, 67, 60, 47, 90, 42, 64, 60, 48, 96, 81, 42, 84, 61, 15, 50, 31, 14, 17, 96, 85, 17, 97, 82, 83, 90, 44, 83, 91, 23, 65, 52, 13, 22, 17, 19, 70, 32, 25, 59, 89, 17, 14, 41, 60, 12, 79, 11, 26]\n",
            "99.0\n"
          ]
        }
      ]
    },
    {
      "cell_type": "code",
      "source": [
        "import statistics\n",
        "sd=statistics.stdev(intNum)\n",
        "sd"
      ],
      "metadata": {
        "colab": {
          "base_uri": "https://localhost:8080/"
        },
        "id": "xzxql-mJOe_x",
        "outputId": "f686b374-8eae-46f8-8e85-8e78ee2b10c3"
      },
      "execution_count": 29,
      "outputs": [
        {
          "output_type": "execute_result",
          "data": {
            "text/plain": [
              "28.220049824924338"
            ]
          },
          "metadata": {},
          "execution_count": 29
        }
      ]
    },
    {
      "cell_type": "code",
      "source": [
        "var=sd*sd\n",
        "var"
      ],
      "metadata": {
        "colab": {
          "base_uri": "https://localhost:8080/"
        },
        "id": "nT_rIP9cQKYB",
        "outputId": "61510697-c745-412a-ed0a-dcdd1529358d"
      },
      "execution_count": 30,
      "outputs": [
        {
          "output_type": "execute_result",
          "data": {
            "text/plain": [
              "796.3712121212121"
            ]
          },
          "metadata": {},
          "execution_count": 30
        }
      ]
    },
    {
      "cell_type": "code",
      "source": [],
      "metadata": {
        "id": "2CuvFJG6QXJq"
      },
      "execution_count": null,
      "outputs": []
    }
  ]
}