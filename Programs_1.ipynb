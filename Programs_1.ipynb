{
  "nbformat": 4,
  "nbformat_minor": 0,
  "metadata": {
    "colab": {
      "provenance": [],
      "authorship_tag": "ABX9TyNh09EsrpP6ZX6SIzMZGm+U",
      "include_colab_link": true
    },
    "kernelspec": {
      "name": "python3",
      "display_name": "Python 3"
    },
    "language_info": {
      "name": "python"
    }
  },
  "cells": [
    {
      "cell_type": "markdown",
      "metadata": {
        "id": "view-in-github",
        "colab_type": "text"
      },
      "source": [
        "<a href=\"https://colab.research.google.com/github/Bhagyashree2k2/ADA-pograms/blob/main/Programs_1.ipynb\" target=\"_parent\"><img src=\"https://colab.research.google.com/assets/colab-badge.svg\" alt=\"Open In Colab\"/></a>"
      ]
    },
    {
      "cell_type": "code",
      "execution_count": null,
      "metadata": {
        "colab": {
          "base_uri": "https://localhost:8080/"
        },
        "id": "Ywg5qoz11XkB",
        "outputId": "7ca4a874-5ca6-4bf6-b0f4-f98eaac139d4"
      },
      "outputs": [
        {
          "output_type": "execute_result",
          "data": {
            "text/plain": [
              "1"
            ]
          },
          "metadata": {},
          "execution_count": 1
        }
      ],
      "source": [
        "#smallest of 4 numbers\n",
        "numbers=[5,8,9,1]\n",
        "n=min(numbers)\n",
        "n"
      ]
    },
    {
      "cell_type": "code",
      "source": [
        "#odd and even digits sum\n",
        "nums=[]\n",
        "for i in range(6):\n",
        " n=input(\"Enter a number\")\n",
        " nums.append(n)\n",
        "odd=[]\n",
        "even=[]\n",
        "for num in nums:\n",
        "  if(int(num)%2==0):\n",
        "    even.append(int(num))\n",
        "  else: odd.append(int(num))\n",
        "print(odd)\n",
        "print(even)\n"
      ],
      "metadata": {
        "colab": {
          "base_uri": "https://localhost:8080/"
        },
        "id": "sIAaCmup1w70",
        "outputId": "86b7b843-4c53-49a5-e3c0-26c0b8dc9542"
      },
      "execution_count": null,
      "outputs": [
        {
          "output_type": "stream",
          "name": "stdout",
          "text": [
            "Enter a number9\n",
            "Enter a number1\n",
            "Enter a number2\n",
            "Enter a number11\n",
            "Enter a number0\n",
            "Enter a number4\n",
            "[9, 1, 11]\n",
            "[2, 0, 4]\n"
          ]
        }
      ]
    },
    {
      "cell_type": "code",
      "source": [
        "print(sum(odd))\n",
        "print(sum(even))"
      ],
      "metadata": {
        "colab": {
          "base_uri": "https://localhost:8080/"
        },
        "id": "4Pm_bWw86BWc",
        "outputId": "c3fcfe98-3d51-47a3-d2fe-7ddff5b15588"
      },
      "execution_count": null,
      "outputs": [
        {
          "output_type": "stream",
          "name": "stdout",
          "text": [
            "21\n",
            "6\n"
          ]
        }
      ]
    },
    {
      "cell_type": "code",
      "source": [
        "#check if given sring is present in input statement\n",
        "str=input(\"Enter a statement \")\n",
        "s=input(\"Enter the string to check \")\n",
        "if s in str:\n",
        "  print(\"%s is present in the string %s\"%(s,str))\n",
        "  #print(\"{} is present in the string {}\".format(s,str))\n",
        "  print(str.count(s))\n",
        "else:print(\"%s is not present in the string %s\"%(s,str))\n"
      ],
      "metadata": {
        "colab": {
          "base_uri": "https://localhost:8080/"
        },
        "id": "asF57gp34gAk",
        "outputId": "fa20f5b3-03df-4ce9-f906-5438b5756792"
      },
      "execution_count": null,
      "outputs": [
        {
          "output_type": "stream",
          "name": "stdout",
          "text": [
            "Enter a statement good good morning\n",
            "Enter the string to check good\n",
            "good is present in the string good good morning\n",
            "2\n"
          ]
        }
      ]
    },
    {
      "cell_type": "code",
      "source": [
        "#check for prime\n",
        "number=input(\"Enter a number\")\n",
        "number=int(number)\n",
        "flag=0\n",
        "if(number==0 or number==1):\n",
        "  print(\"not a prime\")\n",
        "else:\n",
        "  t=number//2\n",
        "  for i in range(2,t):\n",
        "    if(number%i==0):\n",
        "       print(\"not a prime\")\n",
        "       flag=1\n",
        "       break\n",
        "  if(flag==0):\n",
        "    print(\"prime\")"
      ],
      "metadata": {
        "colab": {
          "base_uri": "https://localhost:8080/"
        },
        "id": "8wH52ntA5nbE",
        "outputId": "a2ab7583-6661-4258-d32e-96c7319cbed0"
      },
      "execution_count": null,
      "outputs": [
        {
          "output_type": "stream",
          "name": "stdout",
          "text": [
            "Enter a number3\n",
            "prime\n"
          ]
        }
      ]
    },
    {
      "cell_type": "code",
      "source": [
        "string=input(\"Enter a statement\")\n"
      ],
      "metadata": {
        "id": "zgjTWpCy8npa"
      },
      "execution_count": null,
      "outputs": []
    },
    {
      "cell_type": "code",
      "source": [
        "10//3"
      ],
      "metadata": {
        "colab": {
          "base_uri": "https://localhost:8080/"
        },
        "id": "iRjc1-jn-sXq",
        "outputId": "ea1e429d-84be-4aae-df89-a5810088f778"
      },
      "execution_count": null,
      "outputs": [
        {
          "output_type": "execute_result",
          "data": {
            "text/plain": [
              "3"
            ]
          },
          "metadata": {},
          "execution_count": 45
        }
      ]
    },
    {
      "cell_type": "code",
      "source": [
        "#check for armstrong number\n",
        "import math\n",
        "number=input(\"Enter a number\")\n",
        "n=len(number)\n",
        "number=int(number)\n",
        "temp=number\n",
        "sum=0\n",
        "while(temp!=0):\n",
        "  digit=temp%10\n",
        "  sum=sum+math.pow(digit,n)\n",
        "  temp=temp//10\n",
        "if(sum==number):\n",
        "  print(\"Armstrong number\")\n",
        "else:print(\"Not an armstrong number\")"
      ],
      "metadata": {
        "id": "qlKF47Pj-tfA",
        "colab": {
          "base_uri": "https://localhost:8080/"
        },
        "outputId": "fa37d66c-a160-4ab7-cfb4-4c52fc44ee6e"
      },
      "execution_count": 6,
      "outputs": [
        {
          "output_type": "stream",
          "name": "stdout",
          "text": [
            "Enter a number153\n",
            "Armstrong number\n"
          ]
        }
      ]
    },
    {
      "cell_type": "code",
      "source": [
        "#print alternate characters\n",
        "string=input(\"Enter a sentence\")\n",
        "for i in range(len(string)):\n",
        "  if (i%2==0):\n",
        "    print(string[i]+\" \",end=\" \")"
      ],
      "metadata": {
        "colab": {
          "base_uri": "https://localhost:8080/"
        },
        "id": "_IxCG-m4eGCD",
        "outputId": "8b800905-1476-4d04-fab3-7481ec59834a"
      },
      "execution_count": 11,
      "outputs": [
        {
          "output_type": "stream",
          "name": "stdout",
          "text": [
            "Enter a sentenceyou are beautiful\n",
            "y  u  a  e  b  a  t  f  l  "
          ]
        }
      ]
    }
  ]
}